{
 "cells": [
  {
   "cell_type": "code",
   "execution_count": 1,
   "metadata": {},
   "outputs": [],
   "source": [
    "#Import libraries\n",
    "import numpy as np\n",
    "import pandas as pd\n",
    "from sklearn.model_selection import train_test_split\n",
    "import matplotlib.pyplot as plt"
   ]
  },
  {
   "cell_type": "code",
   "execution_count": 2,
   "metadata": {},
   "outputs": [
    {
     "name": "stdout",
     "output_type": "stream",
     "text": [
      "Rows: 8763 Columns: 23\n",
      "x: (8763, 22)\n",
      "y: (8763, 1)\n"
     ]
    }
   ],
   "source": [
    "# 1. Load the dataset\n",
    "\n",
    "data = pd.read_csv('heart_attack_dataset.csv')\n",
    "dataset = np.array(data)\n",
    "\n",
    "m, n = np.shape(dataset)\n",
    "print('Rows:', m, 'Columns:', n)\n",
    "\n",
    "# la columna (Heart Attack Risk) que contiene los resultados, es la última columna del dataset\n",
    "\n",
    "x = dataset[:, 0:-1]\n",
    "y = dataset[:, -1]\n",
    "y = y.reshape(-1, 1)\n",
    "\n",
    "print('x:', np.shape(x))\n",
    "print('y:', np.shape(y))"
   ]
  },
  {
   "cell_type": "code",
   "execution_count": 3,
   "metadata": {},
   "outputs": [],
   "source": [
    "# 2. Normalize the data\n",
    "def normalize(x):\n",
    "    x_norm = (x - np.mean(x, axis=0)) / np.std(x,axis=0)\n",
    "    return x_norm\n",
    "\n",
    "X_norm = normalize(x)"
   ]
  },
  {
   "cell_type": "code",
   "execution_count": 4,
   "metadata": {},
   "outputs": [
    {
     "name": "stdout",
     "output_type": "stream",
     "text": [
      "x shape:  (8763, 23)\n"
     ]
    }
   ],
   "source": [
    "#3. Prepare data: add Bias\n",
    "def Bias(X):\n",
    "    ones = np.ones((len(X),1))\n",
    "    X1 = np.concatenate((ones, X), axis=1)\n",
    "    return X1\n",
    "\n",
    "x = Bias(X_norm)\n",
    "\n",
    "print('x shape: ', np.shape(x))"
   ]
  },
  {
   "cell_type": "code",
   "execution_count": 5,
   "metadata": {},
   "outputs": [
    {
     "name": "stdout",
     "output_type": "stream",
     "text": [
      "Split X 8763 rows into train with 6134 and test with 2629\n",
      "Split Y 8763 rows into train with 6134 and test with 2629\n",
      "xTrain shape: (6134, 23) yTrain shape: (6134, 1)\n",
      "xTest shape: (2629, 23) yTest shape: (2629, 1)\n"
     ]
    }
   ],
   "source": [
    "# 4. Split the data into training and testing sets\n",
    "\n",
    "test_size = 0.3\n",
    "xTrain, xTest, yTrain, yTest = train_test_split(x, y,test_size = test_size, random_state=0)\n",
    "print('Split X', len(x), 'rows into train with', len(xTrain), 'and test with', len(xTest))\n",
    "print('Split Y', len(y), 'rows into train with', len(yTrain), 'and test with', len(yTest))\n",
    "\n",
    "print('xTrain shape:',np.shape(xTrain), 'yTrain shape:', np.shape(yTrain))\n",
    "print('xTest shape:', np.shape(xTest), 'yTest shape:', np.shape(yTest))"
   ]
  },
  {
   "cell_type": "code",
   "execution_count": 7,
   "metadata": {},
   "outputs": [
    {
     "name": "stdout",
     "output_type": "stream",
     "text": [
      "Train score: 0.6432996413433323\n",
      "Test score: 0.6382655001901864\n"
     ]
    }
   ],
   "source": [
    "# 5. Primer algoritmo de clasificación: Regresión Logística con libreria sklearn\n",
    "\n",
    "from sklearn.linear_model import LogisticRegression\n",
    "\n",
    "model = LogisticRegression()\n",
    "LR = model.fit(xTrain, yTrain.ravel())\n",
    "\n",
    "LR_train_score = LR.score(xTrain, yTrain)\n",
    "LR_test_score = LR.score(xTest, yTest)\n",
    "\n",
    "print('Train score:', LR_train_score)\n",
    "print('Test score:', LR_test_score)\n"
   ]
  },
  {
   "cell_type": "code",
   "execution_count": 8,
   "metadata": {},
   "outputs": [
    {
     "name": "stdout",
     "output_type": "stream",
     "text": [
      "[0.6432996413433323] [0.6382655001901864]\n"
     ]
    }
   ],
   "source": [
    "# 6. Implementar R2 como medicion de desempeño\n",
    "\n",
    "R2_train = []\n",
    "R2_test = []\n",
    "\n",
    "R2_train.append(LR_train_score)\n",
    "R2_test.append(LR_test_score)\n",
    "\n",
    "print(R2_train, R2_test)"
   ]
  },
  {
   "cell_type": "code",
   "execution_count": 9,
   "metadata": {},
   "outputs": [],
   "source": [
    "# 7. Segundo algoritmo usando Decision Tree Classifier\n",
    "\n",
    "# Decision Tree\n",
    "from sklearn.tree import DecisionTreeClassifier\n",
    "\n",
    "# llamar al constructor del de decision\n",
    "tree_model = DecisionTreeClassifier()\n",
    "\n",
    "# Entrenar el modelo\n",
    "tree_model = tree_model.fit(xTrain, yTrain)"
   ]
  },
  {
   "cell_type": "code",
   "execution_count": 10,
   "metadata": {},
   "outputs": [
    {
     "name": "stdout",
     "output_type": "stream",
     "text": [
      "[0.6432996413433323, 1.0] [0.6382655001901864, 0.5477367820464055]\n"
     ]
    }
   ],
   "source": [
    "# 8. Obtener R2 del DT\n",
    "\n",
    "costDT_tr = tree_model.score(xTrain, yTrain)\n",
    "costDT_te = tree_model.score(xTest, yTest)\n",
    "\n",
    "R2_train.append(costDT_tr)\n",
    "R2_test.append(costDT_te)\n",
    "\n",
    "print(R2_train, R2_test)"
   ]
  },
  {
   "cell_type": "code",
   "execution_count": 12,
   "metadata": {},
   "outputs": [
    {
     "name": "stdout",
     "output_type": "stream",
     "text": [
      "Train score: 0.5784153896315618\n",
      "Test score: 0.5751236211487257\n"
     ]
    }
   ],
   "source": [
    "# 9. Tercer algoritmo usando Perceptron con libreria sklearn\n",
    "\n",
    "from sklearn.linear_model import Perceptron\n",
    "\n",
    "model = Perceptron()\n",
    "perceptron = model.fit(xTrain, yTrain.ravel())\n",
    "\n",
    "perceptron_train_score = perceptron.score(xTrain, yTrain)\n",
    "perceptron_test_score = perceptron.score(xTest, yTest)\n",
    "\n",
    "print('Train score:', perceptron_train_score)\n",
    "print('Test score:', perceptron_test_score)"
   ]
  },
  {
   "cell_type": "code",
   "execution_count": 13,
   "metadata": {},
   "outputs": [
    {
     "name": "stdout",
     "output_type": "stream",
     "text": [
      "[0.6432996413433323, 1.0, 0.5784153896315618] [0.6382655001901864, 0.5477367820464055, 0.5751236211487257]\n"
     ]
    }
   ],
   "source": [
    "# 10. Guardar R2 del Perceptron\n",
    "\n",
    "R2_train.append(perceptron_train_score)\n",
    "R2_test.append(perceptron_test_score)\n",
    "\n",
    "print(R2_train, R2_test)"
   ]
  },
  {
   "cell_type": "code",
   "execution_count": 14,
   "metadata": {},
   "outputs": [
    {
     "name": "stdout",
     "output_type": "stream",
     "text": [
      "Train score: 0.6432996413433323\n",
      "Test score: 0.6382655001901864\n"
     ]
    }
   ],
   "source": [
    "# 11. Cuarto algoritmo con MLP Classifier (Multi-layer Perceptron classifier) con libreria sklearn\n",
    "\n",
    "from sklearn.neural_network import MLPClassifier\n",
    "\n",
    "model = MLPClassifier(hidden_layer_sizes=(2,), activation='relu', max_iter=100, random_state=42)\n",
    "MLP = model.fit(xTrain, yTrain.ravel())\n",
    "\n",
    "MLP_train_score = MLP.score(xTrain, yTrain)\n",
    "MLP_test_score = MLP.score(xTest, yTest)\n",
    "\n",
    "print('Train score:', MLP_train_score)\n",
    "print('Test score:', MLP_test_score)"
   ]
  },
  {
   "cell_type": "code",
   "execution_count": 15,
   "metadata": {},
   "outputs": [
    {
     "name": "stdout",
     "output_type": "stream",
     "text": [
      "[0.6432996413433323, 1.0, 0.5784153896315618, 0.6432996413433323] [0.6382655001901864, 0.5477367820464055, 0.5751236211487257, 0.6382655001901864]\n"
     ]
    }
   ],
   "source": [
    "# 12. Guardar R2 del modelo de MLP\n",
    "\n",
    "R2_train.append(MLP_train_score)\n",
    "R2_test.append(MLP_test_score)\n",
    "\n",
    "print(R2_train, R2_test)"
   ]
  },
  {
   "cell_type": "code",
   "execution_count": 16,
   "metadata": {},
   "outputs": [
    {
     "data": {
      "image/png": "[encoded data removed]",
      "text/plain": [
       "<Figure size 640x480 with 1 Axes>"
      ]
     },
     "metadata": {},
     "output_type": "display_data"
    }
   ],
   "source": [
    "# 14. Comparar los resultados de los 4 algoritmos\n",
    "\n",
    "XX = ['LR', 'DT', 'Perceptron', 'MLP']\n",
    "X_axis = np.arange(len(XX))\n",
    "#print(X_axis)\n",
    "\n",
    "plt.bar(X_axis - 0.2, R2_train, 0.4, label = 'Train', color = 'pink')\n",
    "plt.bar(X_axis + 0.2, R2_test, 0.4, label = 'Test', color = 'red')\n",
    "\n",
    "plt.xticks(X_axis, XX)\n",
    "plt.xlabel(\"Algoritmos\")\n",
    "plt.ylabel(\"R2\")\n",
    "plt.title(\"R2_score\")\n",
    "plt.legend()\n",
    "plt.show()"
   ]
  }
 ],
 "metadata": {
  "kernelspec": {
   "display_name": "base",
   "language": "python",
   "name": "python3"
  },
  "language_info": {
   "codemirror_mode": {
    "name": "ipython",
    "version": 3
   },
   "file_extension": ".py",
   "mimetype": "text/x-python",
   "name": "python",
   "nbconvert_exporter": "python",
   "pygments_lexer": "ipython3",
   "version": "3.10.13"
  }
 },
 "nbformat": 4,
 "nbformat_minor": 2
}
